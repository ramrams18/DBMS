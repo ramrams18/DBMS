{
 "cells": [
  {
   "cell_type": "code",
   "execution_count": null,
   "id": "4c3130f0",
   "metadata": {},
   "outputs": [],
   "source": [
    "# packages to install\n",
    "# pip install dnspython\n",
    "# pip install 'pymongo[srv]'"
   ]
  },
  {
   "cell_type": "code",
   "execution_count": 1,
   "id": "908bc685",
   "metadata": {},
   "outputs": [
    {
     "name": "stdout",
     "output_type": "stream",
     "text": [
      "connection successfull\n"
     ]
    }
   ],
   "source": [
    "# make sure that dnspython pymongo are installed in your computer\n",
    "# import sqlite3\n",
    "import sqlite3\n",
    "conn = sqlite3.connect('db2.db')\n",
    "print(\"connection successfull\")"
   ]
  },
  {
   "cell_type": "code",
   "execution_count": null,
   "id": "dcd6e2e6",
   "metadata": {},
   "outputs": [],
   "source": [
    "\n",
    "# Below are the QUERIES to create Tables in database\n",
    "\n",
    "\"\"\" \n",
    "Artist Table  \n",
    "\n",
    "\"\"\"\n",
    "\n",
    "# aID\tName\tBirthdate\tDeathDate\tcommission\tstreet\tcity\tstate\tzipcode\n",
    "\n",
    "conn.execute('''CREATE TABLE ARTIST\n",
    " (AID INT PRIMARY KEY     NOT NULL,\n",
    " NAME           TEXT    NOT NULL,\n",
    " BIRTHDATE      TEXT    NOT NULL,\n",
    " DEATHDATE      TEXT    ,\n",
    " COMMISSION   INT NOT NULL,\n",
    " STREET TEXT NOT NULL,\n",
    " CITY TEXT NOT NULL,\n",
    " STATE TEXT NOT NULL,\n",
    " ZIPCODE TEXT NOT NULL)''')\n",
    "\n",
    "\n",
    "\"\"\" \n",
    "Artwork Table  \n",
    "\n",
    "\"\"\"\n",
    "\n",
    "# aID\tartID\ttitle\tcreationDate\tacquisitionDate\tprice\tform\n",
    "\n",
    "conn.execute('''CREATE TABLE ARTWORK\n",
    " (AID INT      NOT NULL,\n",
    "  ARTID INT NOT NULL,\n",
    "  TITLE TEXT NOT NULL,\n",
    "  CREATIONDATE      TEXT    NOT NULL,\n",
    "  ACQUISITIONDATE      TEXT    NOT NULL,\n",
    "  PRICE INT NOT NULL,\n",
    "  FORM TEXT NOT NULL,\n",
    "  PRIMARY KEY (ARTID)\n",
    "  )''')\n",
    "\n",
    "\"\"\" \n",
    "Bought Table  \n",
    "\n",
    "\"\"\"\n",
    "\n",
    "# artID\tcid\tsaleDate\n",
    "\n",
    "conn.execute('''CREATE TABLE BOUGHT\n",
    "(ARTID INT NOT NULL,\n",
    "  CID INT NOT NULL,\n",
    "  SALEDATE TEXT NOT NULL,\n",
    "  PRIMARY KEY (CID)\n",
    "  )''')\n",
    "\n",
    "\n",
    "\"\"\" \n",
    "CUSTOMER Table  \n",
    "\n",
    "\"\"\"\n",
    "\n",
    "# CID\tNAME\tSTREET\tCITY\tSTATE\tZIPCODE\t\n",
    "\n",
    "\n",
    "conn.execute('''CREATE TABLE CUSTOMER\n",
    "(CID INT NOT NULL,\n",
    " NAME TEXT NOT NULL,\n",
    " STREET TEXT NOT NULL,\n",
    " CITY TEXT NOT NULL,\n",
    " STATE TEXT NOT NULL,\n",
    " ZIPCODE TEXT NOT NULL,\n",
    " PRIMARY KEY (CID)\n",
    "  )''')\n",
    "\n",
    "\"\"\" \n",
    "STATE Table  \n",
    "\n",
    "\"\"\"\n",
    "\n",
    "# STATEAB\tSTATENAME\n",
    "\n",
    "\n",
    "conn.execute('''CREATE TABLE STATE\n",
    " (STATEAB TEXT NOT NULL,\n",
    "  STATENAME TEXT NOT NULL,\n",
    "   PRIMARY KEY (STATEAB)\n",
    "  )''')\n",
    "\n",
    "\n"
   ]
  },
  {
   "cell_type": "code",
   "execution_count": 2,
   "id": "a495246f",
   "metadata": {},
   "outputs": [],
   "source": [
    "# code for populating tables from the csv files\n",
    "\n",
    "import csv\n",
    "def populateTable(filename,tablename,columns):\n",
    "    with open(filename, 'r') as csvfile:\n",
    "        # creating a csv reader object\n",
    "        csvreader = csv.reader(csvfile)\n",
    "        rows = []\n",
    "        # extracting field names through first row\n",
    "        fields = next(csvreader)\n",
    "        brackets = \",\".join(['\"{}\"']*len(columns)) \n",
    "        for row in csvreader:\n",
    "            rows.append(row)\n",
    "            conn.execute((f' INSERT INTO {tablename} ({\",\".join(columns)}) VALUES ({brackets})').format(*row))\n",
    "\n",
    "# code for Displaying Table\n",
    "\n",
    "def DisplayTable(tablename,length=100):\n",
    "    cursor = conn.execute(f'select * from {tablename} LIMIT {length}')\n",
    "    for i in cursor:\n",
    "        print(i)"
   ]
  },
  {
   "cell_type": "code",
   "execution_count": 3,
   "id": "e8e985c0",
   "metadata": {
    "scrolled": true
   },
   "outputs": [
    {
     "name": "stdout",
     "output_type": "stream",
     "text": [
      "Done populating\n"
     ]
    }
   ],
   "source": [
    "populateTable(\"ARTIST.csv\",\"ARTIST\",[\"aID\",\"NAME\",\"BIRTHDATE\",\"DEATHDATE\",\\\n",
    "                                     \"COMMISSION\",\"STREET\",\"CITY\",\"STATE\",\"ZIPCODE\"])\n",
    "populateTable(\"ARTWORK.csv\",\"ARTWORK\",[\"AID\",\"ARTID\",\"TITLE\",\"CREATIONDATE\",\"ACQUISITIONDATE\",\"PRICE\",\"FORM\"])\n",
    "\n",
    "populateTable(\"BOUGHT.csv\",\"BOUGHT\",[\"ARTID\",\"CID\",\"SALEDATE\"])\n",
    "\n",
    "populateTable(\"CUSTOMER.csv\",\"CUSTOMER\",[\"CID\",\"NAME\",\"STREET\",\"CITY\",\"STATE\",\"ZIPCODE\"])\n",
    "\n",
    "populateTable(\"STATE.csv\",\"STATE\",[\"STATEAB\",\"STATENAME\"])\n",
    "\n",
    "print(\"Done populating\")\n"
   ]
  },
  {
   "cell_type": "code",
   "execution_count": 4,
   "id": "6992e304",
   "metadata": {
    "scrolled": true
   },
   "outputs": [
    {
     "name": "stdout",
     "output_type": "stream",
     "text": [
      "(1, 'Abed Abdi', '2000-01-01', 'NULL', 10, '309 Hcounty Road', 'Abbott', 'TX', '76621-0057')\n",
      "(2, 'Ismail Gulg', '1990-01-03', 'NULL', 11, '405 E Mesquite Street', 'Abbott', 'TX', '76621-0057')\n",
      "(3, 'Shakir Ali', '1995-02-04', 'NULL', 12, '5000 Spectrum Street', 'Addison', 'TX', '75001-6880')\n",
      "(4, 'Abdur Rahman', '1970-02-05', 'NULL', 10, '1000 County Road', 'Bradley', 'Ok', '73011-0121')\n",
      "(5, 'Kalipada Ghoshal', '1994-01-01', 'NULL', 10, 'Boundary Road', 'Bradley', 'OK', '73011-9600')\n",
      "(1, 1, 'Refugee Camp', '2020-09-09', '2021-02-07', 12000, 'painting')\n",
      "(1, 2, 'Waiting', '2020-12-28', '2021-02-07', 15000, 'painting')\n",
      "(1, 3, 'Palestenian Women', '2021-01-01', '2021-02-07', 1700, 'painting')\n",
      "(1, 1, '2021-07-08')\n",
      "(1, 2, '2021-07-08')\n",
      "(3, 3, '2021-08-08')\n",
      "(1, 'Mahbod Seraji ', '1500 E Exchange Road', 'Allen', 'TX', '75002-4504')\n",
      "(2, 'Shazadi Seraji', '1500 E Exchange Road', 'Allen', 'TX', '75002-4504')\n",
      "(3, 'Nadia Hashimi', '1405 Julian Street', 'Addison', 'TX', '75001-4633')\n",
      "('TX', 'Texas')\n",
      "('OK', 'Oklahoma')\n",
      "('NM', 'New Mexico')\n"
     ]
    }
   ],
   "source": [
    "DisplayTable(\"ARTIST\",5)\n",
    "DisplayTable(\"ARTWORK\",3)\n",
    "DisplayTable(\"BOUGHT\",3)\n",
    "DisplayTable(\"CUSTOMER\",3)\n",
    "DisplayTable(\"STATE\",3)"
   ]
  },
  {
   "cell_type": "code",
   "execution_count": 5,
   "id": "1cff771d",
   "metadata": {},
   "outputs": [
    {
     "name": "stdout",
     "output_type": "stream",
     "text": [
      "done\n"
     ]
    }
   ],
   "source": [
    "import json\n",
    "# function for getting data for populating artist collection on mongodb\n",
    "\n",
    "def getArtistCollection():\n",
    "    cursor = conn.execute(\"\"\"SELECT ARTIST.AID,ARTIST.NAME,ARTIST.BIRTHDATE,\n",
    "    STATE.STATENAME,ARTWORK.TITLE,ARTWORK.PRICE,ARTWORK.FORM\n",
    "    FROM ARTIST\n",
    "    LEFT JOIN ARTWORK ON ARTIST.AID = ARTWORK.AID\n",
    "    LEFT JOIN STATE ON LOWER(STATE.STATEAB)= LOWER(ARTIST.STATE);\"\"\")\n",
    "\n",
    "    artists = {}\n",
    "    artworks = {}\n",
    "    docs = []\n",
    "    for row in cursor:\n",
    "\n",
    "        if row[1] not in artworks:\n",
    "            artworks[row[1]] = [{\"title\":row[4],\"price\":row[5],\"form\":row[6]}]\n",
    "            artists[row[1]] = {\"_id\":row[0],\"name\":row[1],\"birthdate\":row[2],'state':row[3]}\n",
    "        else:\n",
    "            artworks[row[1]].append({\"title\":row[4],\"price\":row[5],\"form\":row[6]})\n",
    "    for artist in artists:\n",
    "        temp = dict(artists[artist]) \n",
    "        temp[\"artworks\"] = artworks[artist]\n",
    "        docs.append(temp)\n",
    "    return docs\n",
    "\n",
    "with open(\"Artist.json\", \"w\") as outfile:\n",
    "    json.dump(getArtistCollection(), outfile)\n",
    "print(\"done\")\n",
    "        "
   ]
  },
  {
   "cell_type": "code",
   "execution_count": 6,
   "id": "13541ae8",
   "metadata": {
    "scrolled": false
   },
   "outputs": [
    {
     "name": "stdout",
     "output_type": "stream",
     "text": [
      "done\n"
     ]
    }
   ],
   "source": [
    "# function for getting data for  populating ARTWork collection on mongodb\n",
    "\n",
    "def getArtWorkCollection():\n",
    "    cursor = conn.execute(\"\"\"SELECT ARTWORK.ARTID,  ARTWORK.TITLE, ARTWORK.CREATIONDATE,ARTWORK.PRICE,\n",
    "    ARTWORK.FORM,ARTIST.NAME,CUSTOMER.NAME, CUSTOMER.CITY,STATE.STATENAME\n",
    "    FROM ((((Artwork left join bought on artwork.artid = bought.artid)\n",
    "    left join artist on artwork.aid = artist.aid)\n",
    "    left join customer on customer.cid = bought.cid)\n",
    "    left join state on LOWER(customer.state) = LOWER(state.stateab))\n",
    "    \"\"\")\n",
    "    artworks = {}\n",
    "    customers = {}\n",
    "    docs=[]\n",
    "    for row in cursor:\n",
    "        if row[1] not in artworks:\n",
    "            if row[6] is None:\n",
    "                customers[row[1]] = []\n",
    "            else:\n",
    "                customers[row[1]] = [{\"name\":row[6],\"city\":row[7],\"state\":row[8]}]\n",
    "            artworks[row[1]] = {\"_id\":row[0],\"name\":row[1],\"creationdate\":row[2],'price':row[3],'form':row[4],\"artistname\":row[5]}\n",
    "        else:\n",
    "            customers[row[1]].append({\"name\":row[6],\"city\":row[7],\"state\":row[8]})\n",
    "    for artwork in artworks:\n",
    "        temp = dict(artworks[artwork]) \n",
    "        temp[\"customers\"] = customers[artwork]\n",
    "        docs.append(temp)    \n",
    "    return docs\n",
    "\n",
    "with open(\"Artwork.json\", \"w\") as outfile:\n",
    "    json.dump(getArtWorkCollection(), outfile)\n",
    "print(\"done\")"
   ]
  },
  {
   "cell_type": "code",
   "execution_count": 7,
   "id": "355f9e6a",
   "metadata": {},
   "outputs": [
    {
     "name": "stdout",
     "output_type": "stream",
     "text": [
      "connection successfull\n"
     ]
    }
   ],
   "source": [
    "# uncomment the lines below to connect to local client\n",
    "\n",
    "# import pymongo\n",
    "# myclient = pymongo.MongoClient(\"mongodb://localhost:27017/\")\n",
    "\n",
    "import urllib \n",
    "from pymongo import MongoClient\n",
    "\n",
    "username = urllib.parse.quote_plus('yashdemouser')\n",
    "password = urllib.parse.quote_plus('Zb6cLOXkgKmer9PX')\n",
    "connectionstring = 'mongodb+srv://%s:%s@cluster0.gltm7.mongodb.net/?retryWrites=true&w=majority' % (username, password)\n",
    "\n",
    "myclient = MongoClient(connectionstring)\n",
    "\n",
    "\n",
    "mydb = myclient[\"db2\"]\n",
    "\n",
    "print(\"connection successfull\")"
   ]
  },
  {
   "cell_type": "code",
   "execution_count": null,
   "id": "dd5fc90f",
   "metadata": {},
   "outputs": [],
   "source": [
    "# this cell is for inserting all collections from json file\n",
    "# use only once or else you will get duplicate insertion error\n",
    "mycol = mydb[\"ARTIST\"]\n",
    "\n",
    "data = []\n",
    "with open('Artist.json') as json_file:\n",
    "    data = json.load(json_file)\n",
    "    \n",
    "mycol.insert_many(data)\n",
    "\n",
    "mycol = mydb[\"ARTWORK\"]\n",
    "\n",
    "with open('Artwork.json') as json_file:\n",
    "    data = json.load(json_file)\n",
    "mycol.insert_many(data)\n",
    "\n",
    "print(\"Done Inserting all collections ......\")\n"
   ]
  },
  {
   "cell_type": "code",
   "execution_count": null,
   "id": "be3e42dc",
   "metadata": {},
   "outputs": [],
   "source": [
    "#This code for deleting all both collections\n",
    "# use only when required\n",
    "\n",
    "mycol = mydb[\"ARTIST\"]\n",
    "result = mycol.delete_many({})\n",
    "print(result.deleted_count, \" documents deleted.\")\n",
    "\n",
    "mycol = mydb[\"ARTWORK\"]\n",
    "result = mycol.delete_many({})\n",
    "print(result.deleted_count, \" documents deleted.\")\n"
   ]
  },
  {
   "cell_type": "code",
   "execution_count": null,
   "id": "3ad77225",
   "metadata": {
    "scrolled": true
   },
   "outputs": [],
   "source": [
    "# queries for dropping tables\n",
    "conn.execute(''' DROP TABLE ARTIST ''')\n",
    "conn.execute(''' DROP TABLE ARTWORK ''')\n",
    "conn.execute(''' DROP TABLE BOUGHT ''')\n",
    "conn.execute(''' DROP TABLE CUSTOMER  ''')\n",
    "conn.execute(''' DROP TABLE STATE''')"
   ]
  },
  {
   "cell_type": "code",
   "execution_count": null,
   "id": "67056278",
   "metadata": {},
   "outputs": [],
   "source": []
  }
 ],
 "metadata": {
  "kernelspec": {
   "display_name": "Python 3",
   "language": "python",
   "name": "python3"
  },
  "language_info": {
   "codemirror_mode": {
    "name": "ipython",
    "version": 3
   },
   "file_extension": ".py",
   "mimetype": "text/x-python",
   "name": "python",
   "nbconvert_exporter": "python",
   "pygments_lexer": "ipython3",
   "version": "3.8.8"
  },
  "vscode": {
   "interpreter": {
    "hash": "50292dbb1f747f7151d445135d392af3138fb3c65386d17d9510cb605222b10b"
   }
  }
 },
 "nbformat": 4,
 "nbformat_minor": 5
}
